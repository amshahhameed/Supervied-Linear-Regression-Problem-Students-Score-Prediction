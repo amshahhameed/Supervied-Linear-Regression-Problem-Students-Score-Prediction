{
 "cells": [
  {
   "cell_type": "markdown",
   "id": "fddd531c",
   "metadata": {},
   "source": [
    "# THE SPARKS FOUNDATION"
   ]
  },
  {
   "cell_type": "markdown",
   "id": "25f33d51",
   "metadata": {},
   "source": [
    "## GRIP MARCH 22(Data science and Business analytics)\n",
    "## Task 1 - Prediction using Supervised Machine Learning\n",
    "### AUTHOR - SHAHUL HAMEED A M "
   ]
  },
  {
   "cell_type": "markdown",
   "id": "ed9bfefa",
   "metadata": {},
   "source": [
    "### OBJECTIVE:\n",
    "* To predict the percentage of marks that a student is expected to score based upon the number of hours they studied. This is a simple linear regression task as it involves just two variables."
   ]
  },
  {
   "cell_type": "markdown",
   "id": "fd095d54",
   "metadata": {},
   "source": [
    "# ***SIMPLE LINEAR REGRESSION PROBLEM***"
   ]
  },
  {
   "cell_type": "markdown",
   "id": "f1af828d",
   "metadata": {},
   "source": [
    "### Importing necessary Libraries"
   ]
  },
  {
   "cell_type": "code",
   "execution_count": 134,
   "id": "80b33cc7",
   "metadata": {},
   "outputs": [],
   "source": [
    "# import 'Pandas' \n",
    "import pandas as pd \n",
    "\n",
    "# import 'Numpy' \n",
    "import numpy as np\n",
    "\n",
    "# import subpackage of Matplotlib\n",
    "import matplotlib.pyplot as plt\n",
    "\n",
    "# import 'Seaborn' \n",
    "import seaborn as sns\n",
    "\n",
    "# to suppress warnings \n",
    "from warnings import filterwarnings\n",
    "filterwarnings('ignore')\n",
    "\n",
    "# display all columns of the dataframe\n",
    "pd.options.display.max_columns = None\n",
    "\n",
    "# display all rows of the dataframe\n",
    "pd.options.display.max_rows = None\n",
    " \n",
    "# to display the float values upto 6 decimal places     \n",
    "pd.options.display.float_format = '{:.6f}'.format\n",
    "\n",
    "# import train-test split \n",
    "from sklearn.model_selection import train_test_split\n",
    "\n",
    "# import various functions from statsmodels\n",
    "import statsmodels\n",
    "import statsmodels.api as sm\n",
    "\n",
    "# import 'stats'\n",
    "from scipy import stats\n",
    "# import various functions from statsmodels\n",
    "import statsmodels\n",
    "import statsmodels.api as sm\n",
    "import statsmodels.stats.api as sms\n",
    "from statsmodels.graphics.gofplots import qqplot\n",
    "from statsmodels.compat import lzip\n",
    "from scipy.stats import shapiro\n",
    "\n",
    "# 'metrics' from sklearn is used for evaluating the model performance\n",
    "from sklearn.metrics import mean_squared_error\n",
    "from sklearn.metrics import mean_absolute_error\n",
    "\n",
    "\n",
    "# import function to perform linear regression\n",
    "from sklearn.linear_model import LinearRegression\n",
    "\n",
    "# import StandardScaler to perform scaling\n",
    "from sklearn.preprocessing import StandardScaler \n",
    "\n",
    "# import SGDRegressor from sklearn to perform linear regression with stochastic gradient descent\n",
    "from sklearn.linear_model import SGDRegressor\n",
    "\n",
    "# import function for ridge regression\n",
    "from sklearn.linear_model import Ridge\n",
    "\n",
    "# import function for lasso regression\n",
    "from sklearn.linear_model import Lasso\n",
    "\n",
    "# import function for elastic net regression\n",
    "from sklearn.linear_model import ElasticNet\n",
    "\n",
    "# import function to perform GridSearchCV\n",
    "from sklearn.model_selection import GridSearchCV"
   ]
  },
  {
   "cell_type": "markdown",
   "id": "9d893b71",
   "metadata": {},
   "source": [
    "### Reading dataset using thee URL LINK"
   ]
  },
  {
   "cell_type": "code",
   "execution_count": 135,
   "id": "b8e31626",
   "metadata": {},
   "outputs": [
    {
     "data": {
      "text/html": [
       "<div>\n",
       "<style scoped>\n",
       "    .dataframe tbody tr th:only-of-type {\n",
       "        vertical-align: middle;\n",
       "    }\n",
       "\n",
       "    .dataframe tbody tr th {\n",
       "        vertical-align: top;\n",
       "    }\n",
       "\n",
       "    .dataframe thead th {\n",
       "        text-align: right;\n",
       "    }\n",
       "</style>\n",
       "<table border=\"1\" class=\"dataframe\">\n",
       "  <thead>\n",
       "    <tr style=\"text-align: right;\">\n",
       "      <th></th>\n",
       "      <th>Hours</th>\n",
       "      <th>Scores</th>\n",
       "    </tr>\n",
       "  </thead>\n",
       "  <tbody>\n",
       "    <tr>\n",
       "      <th>0</th>\n",
       "      <td>2.500000</td>\n",
       "      <td>21</td>\n",
       "    </tr>\n",
       "    <tr>\n",
       "      <th>1</th>\n",
       "      <td>5.100000</td>\n",
       "      <td>47</td>\n",
       "    </tr>\n",
       "    <tr>\n",
       "      <th>2</th>\n",
       "      <td>3.200000</td>\n",
       "      <td>27</td>\n",
       "    </tr>\n",
       "    <tr>\n",
       "      <th>3</th>\n",
       "      <td>8.500000</td>\n",
       "      <td>75</td>\n",
       "    </tr>\n",
       "    <tr>\n",
       "      <th>4</th>\n",
       "      <td>3.500000</td>\n",
       "      <td>30</td>\n",
       "    </tr>\n",
       "    <tr>\n",
       "      <th>5</th>\n",
       "      <td>1.500000</td>\n",
       "      <td>20</td>\n",
       "    </tr>\n",
       "    <tr>\n",
       "      <th>6</th>\n",
       "      <td>9.200000</td>\n",
       "      <td>88</td>\n",
       "    </tr>\n",
       "    <tr>\n",
       "      <th>7</th>\n",
       "      <td>5.500000</td>\n",
       "      <td>60</td>\n",
       "    </tr>\n",
       "    <tr>\n",
       "      <th>8</th>\n",
       "      <td>8.300000</td>\n",
       "      <td>81</td>\n",
       "    </tr>\n",
       "    <tr>\n",
       "      <th>9</th>\n",
       "      <td>2.700000</td>\n",
       "      <td>25</td>\n",
       "    </tr>\n",
       "    <tr>\n",
       "      <th>10</th>\n",
       "      <td>7.700000</td>\n",
       "      <td>85</td>\n",
       "    </tr>\n",
       "    <tr>\n",
       "      <th>11</th>\n",
       "      <td>5.900000</td>\n",
       "      <td>62</td>\n",
       "    </tr>\n",
       "    <tr>\n",
       "      <th>12</th>\n",
       "      <td>4.500000</td>\n",
       "      <td>41</td>\n",
       "    </tr>\n",
       "    <tr>\n",
       "      <th>13</th>\n",
       "      <td>3.300000</td>\n",
       "      <td>42</td>\n",
       "    </tr>\n",
       "    <tr>\n",
       "      <th>14</th>\n",
       "      <td>1.100000</td>\n",
       "      <td>17</td>\n",
       "    </tr>\n",
       "    <tr>\n",
       "      <th>15</th>\n",
       "      <td>8.900000</td>\n",
       "      <td>95</td>\n",
       "    </tr>\n",
       "    <tr>\n",
       "      <th>16</th>\n",
       "      <td>2.500000</td>\n",
       "      <td>30</td>\n",
       "    </tr>\n",
       "    <tr>\n",
       "      <th>17</th>\n",
       "      <td>1.900000</td>\n",
       "      <td>24</td>\n",
       "    </tr>\n",
       "    <tr>\n",
       "      <th>18</th>\n",
       "      <td>6.100000</td>\n",
       "      <td>67</td>\n",
       "    </tr>\n",
       "    <tr>\n",
       "      <th>19</th>\n",
       "      <td>7.400000</td>\n",
       "      <td>69</td>\n",
       "    </tr>\n",
       "    <tr>\n",
       "      <th>20</th>\n",
       "      <td>2.700000</td>\n",
       "      <td>30</td>\n",
       "    </tr>\n",
       "    <tr>\n",
       "      <th>21</th>\n",
       "      <td>4.800000</td>\n",
       "      <td>54</td>\n",
       "    </tr>\n",
       "    <tr>\n",
       "      <th>22</th>\n",
       "      <td>3.800000</td>\n",
       "      <td>35</td>\n",
       "    </tr>\n",
       "    <tr>\n",
       "      <th>23</th>\n",
       "      <td>6.900000</td>\n",
       "      <td>76</td>\n",
       "    </tr>\n",
       "    <tr>\n",
       "      <th>24</th>\n",
       "      <td>7.800000</td>\n",
       "      <td>86</td>\n",
       "    </tr>\n",
       "  </tbody>\n",
       "</table>\n",
       "</div>"
      ],
      "text/plain": [
       "      Hours  Scores\n",
       "0  2.500000      21\n",
       "1  5.100000      47\n",
       "2  3.200000      27\n",
       "3  8.500000      75\n",
       "4  3.500000      30\n",
       "5  1.500000      20\n",
       "6  9.200000      88\n",
       "7  5.500000      60\n",
       "8  8.300000      81\n",
       "9  2.700000      25\n",
       "10 7.700000      85\n",
       "11 5.900000      62\n",
       "12 4.500000      41\n",
       "13 3.300000      42\n",
       "14 1.100000      17\n",
       "15 8.900000      95\n",
       "16 2.500000      30\n",
       "17 1.900000      24\n",
       "18 6.100000      67\n",
       "19 7.400000      69\n",
       "20 2.700000      30\n",
       "21 4.800000      54\n",
       "22 3.800000      35\n",
       "23 6.900000      76\n",
       "24 7.800000      86"
      ]
     },
     "execution_count": 135,
     "metadata": {},
     "output_type": "execute_result"
    }
   ],
   "source": [
    "df = pd.read_csv('http://bit.ly/w-data')\n",
    "df"
   ]
  },
  {
   "cell_type": "code",
   "execution_count": 136,
   "id": "aa37b52d",
   "metadata": {},
   "outputs": [
    {
     "data": {
      "text/html": [
       "<div>\n",
       "<style scoped>\n",
       "    .dataframe tbody tr th:only-of-type {\n",
       "        vertical-align: middle;\n",
       "    }\n",
       "\n",
       "    .dataframe tbody tr th {\n",
       "        vertical-align: top;\n",
       "    }\n",
       "\n",
       "    .dataframe thead th {\n",
       "        text-align: right;\n",
       "    }\n",
       "</style>\n",
       "<table border=\"1\" class=\"dataframe\">\n",
       "  <thead>\n",
       "    <tr style=\"text-align: right;\">\n",
       "      <th></th>\n",
       "      <th>Hours</th>\n",
       "      <th>Scores</th>\n",
       "    </tr>\n",
       "  </thead>\n",
       "  <tbody>\n",
       "    <tr>\n",
       "      <th>0</th>\n",
       "      <td>2.500000</td>\n",
       "      <td>21</td>\n",
       "    </tr>\n",
       "    <tr>\n",
       "      <th>1</th>\n",
       "      <td>5.100000</td>\n",
       "      <td>47</td>\n",
       "    </tr>\n",
       "    <tr>\n",
       "      <th>2</th>\n",
       "      <td>3.200000</td>\n",
       "      <td>27</td>\n",
       "    </tr>\n",
       "    <tr>\n",
       "      <th>3</th>\n",
       "      <td>8.500000</td>\n",
       "      <td>75</td>\n",
       "    </tr>\n",
       "    <tr>\n",
       "      <th>4</th>\n",
       "      <td>3.500000</td>\n",
       "      <td>30</td>\n",
       "    </tr>\n",
       "    <tr>\n",
       "      <th>5</th>\n",
       "      <td>1.500000</td>\n",
       "      <td>20</td>\n",
       "    </tr>\n",
       "    <tr>\n",
       "      <th>6</th>\n",
       "      <td>9.200000</td>\n",
       "      <td>88</td>\n",
       "    </tr>\n",
       "    <tr>\n",
       "      <th>7</th>\n",
       "      <td>5.500000</td>\n",
       "      <td>60</td>\n",
       "    </tr>\n",
       "    <tr>\n",
       "      <th>8</th>\n",
       "      <td>8.300000</td>\n",
       "      <td>81</td>\n",
       "    </tr>\n",
       "    <tr>\n",
       "      <th>9</th>\n",
       "      <td>2.700000</td>\n",
       "      <td>25</td>\n",
       "    </tr>\n",
       "  </tbody>\n",
       "</table>\n",
       "</div>"
      ],
      "text/plain": [
       "     Hours  Scores\n",
       "0 2.500000      21\n",
       "1 5.100000      47\n",
       "2 3.200000      27\n",
       "3 8.500000      75\n",
       "4 3.500000      30\n",
       "5 1.500000      20\n",
       "6 9.200000      88\n",
       "7 5.500000      60\n",
       "8 8.300000      81\n",
       "9 2.700000      25"
      ]
     },
     "execution_count": 136,
     "metadata": {},
     "output_type": "execute_result"
    }
   ],
   "source": [
    "df.head(10)  # first ten records"
   ]
  },
  {
   "cell_type": "code",
   "execution_count": 137,
   "id": "bddcb414",
   "metadata": {},
   "outputs": [
    {
     "data": {
      "text/html": [
       "<div>\n",
       "<style scoped>\n",
       "    .dataframe tbody tr th:only-of-type {\n",
       "        vertical-align: middle;\n",
       "    }\n",
       "\n",
       "    .dataframe tbody tr th {\n",
       "        vertical-align: top;\n",
       "    }\n",
       "\n",
       "    .dataframe thead th {\n",
       "        text-align: right;\n",
       "    }\n",
       "</style>\n",
       "<table border=\"1\" class=\"dataframe\">\n",
       "  <thead>\n",
       "    <tr style=\"text-align: right;\">\n",
       "      <th></th>\n",
       "      <th>Hours</th>\n",
       "      <th>Scores</th>\n",
       "    </tr>\n",
       "  </thead>\n",
       "  <tbody>\n",
       "    <tr>\n",
       "      <th>15</th>\n",
       "      <td>8.900000</td>\n",
       "      <td>95</td>\n",
       "    </tr>\n",
       "    <tr>\n",
       "      <th>16</th>\n",
       "      <td>2.500000</td>\n",
       "      <td>30</td>\n",
       "    </tr>\n",
       "    <tr>\n",
       "      <th>17</th>\n",
       "      <td>1.900000</td>\n",
       "      <td>24</td>\n",
       "    </tr>\n",
       "    <tr>\n",
       "      <th>18</th>\n",
       "      <td>6.100000</td>\n",
       "      <td>67</td>\n",
       "    </tr>\n",
       "    <tr>\n",
       "      <th>19</th>\n",
       "      <td>7.400000</td>\n",
       "      <td>69</td>\n",
       "    </tr>\n",
       "    <tr>\n",
       "      <th>20</th>\n",
       "      <td>2.700000</td>\n",
       "      <td>30</td>\n",
       "    </tr>\n",
       "    <tr>\n",
       "      <th>21</th>\n",
       "      <td>4.800000</td>\n",
       "      <td>54</td>\n",
       "    </tr>\n",
       "    <tr>\n",
       "      <th>22</th>\n",
       "      <td>3.800000</td>\n",
       "      <td>35</td>\n",
       "    </tr>\n",
       "    <tr>\n",
       "      <th>23</th>\n",
       "      <td>6.900000</td>\n",
       "      <td>76</td>\n",
       "    </tr>\n",
       "    <tr>\n",
       "      <th>24</th>\n",
       "      <td>7.800000</td>\n",
       "      <td>86</td>\n",
       "    </tr>\n",
       "  </tbody>\n",
       "</table>\n",
       "</div>"
      ],
      "text/plain": [
       "      Hours  Scores\n",
       "15 8.900000      95\n",
       "16 2.500000      30\n",
       "17 1.900000      24\n",
       "18 6.100000      67\n",
       "19 7.400000      69\n",
       "20 2.700000      30\n",
       "21 4.800000      54\n",
       "22 3.800000      35\n",
       "23 6.900000      76\n",
       "24 7.800000      86"
      ]
     },
     "execution_count": 137,
     "metadata": {},
     "output_type": "execute_result"
    }
   ],
   "source": [
    "df.tail(10)  # last ten records"
   ]
  },
  {
   "cell_type": "markdown",
   "id": "598a7acb",
   "metadata": {},
   "source": [
    "### Understanding the Dataset"
   ]
  },
  {
   "cell_type": "markdown",
   "id": "f84fcfb7",
   "metadata": {},
   "source": [
    "### Data Dimension"
   ]
  },
  {
   "cell_type": "code",
   "execution_count": 138,
   "id": "2243cdfe",
   "metadata": {},
   "outputs": [
    {
     "data": {
      "text/plain": [
       "(25, 2)"
      ]
     },
     "execution_count": 138,
     "metadata": {},
     "output_type": "execute_result"
    }
   ],
   "source": [
    "df.shape"
   ]
  },
  {
   "cell_type": "markdown",
   "id": "37609e63",
   "metadata": {},
   "source": [
    "**Interpretation:** We can see the dataframe has 2 columns and 25 observations."
   ]
  },
  {
   "cell_type": "markdown",
   "id": "f3c93946",
   "metadata": {},
   "source": [
    "### Data Definition"
   ]
  },
  {
   "cell_type": "code",
   "execution_count": 139,
   "id": "a98e5932",
   "metadata": {},
   "outputs": [
    {
     "data": {
      "text/plain": [
       "Hours     float64\n",
       "Scores      int64\n",
       "dtype: object"
      ]
     },
     "execution_count": 139,
     "metadata": {},
     "output_type": "execute_result"
    }
   ],
   "source": [
    "df.dtypes"
   ]
  },
  {
   "cell_type": "markdown",
   "id": "4eb9a664",
   "metadata": {},
   "source": [
    "**Interpretation:** \n",
    "\n",
    "* Hours: Number of hours students studied (Numeric feature)\n",
    "* Scores: Scores obtained by students (Numeric feature)"
   ]
  },
  {
   "cell_type": "markdown",
   "id": "0d2ad943",
   "metadata": {},
   "source": [
    "### Summary Statistics"
   ]
  },
  {
   "cell_type": "code",
   "execution_count": 140,
   "id": "3525b2d2",
   "metadata": {},
   "outputs": [
    {
     "data": {
      "text/html": [
       "<div>\n",
       "<style scoped>\n",
       "    .dataframe tbody tr th:only-of-type {\n",
       "        vertical-align: middle;\n",
       "    }\n",
       "\n",
       "    .dataframe tbody tr th {\n",
       "        vertical-align: top;\n",
       "    }\n",
       "\n",
       "    .dataframe thead th {\n",
       "        text-align: right;\n",
       "    }\n",
       "</style>\n",
       "<table border=\"1\" class=\"dataframe\">\n",
       "  <thead>\n",
       "    <tr style=\"text-align: right;\">\n",
       "      <th></th>\n",
       "      <th>Hours</th>\n",
       "      <th>Scores</th>\n",
       "    </tr>\n",
       "  </thead>\n",
       "  <tbody>\n",
       "    <tr>\n",
       "      <th>count</th>\n",
       "      <td>25.000000</td>\n",
       "      <td>25.000000</td>\n",
       "    </tr>\n",
       "    <tr>\n",
       "      <th>mean</th>\n",
       "      <td>5.012000</td>\n",
       "      <td>51.480000</td>\n",
       "    </tr>\n",
       "    <tr>\n",
       "      <th>std</th>\n",
       "      <td>2.525094</td>\n",
       "      <td>25.286887</td>\n",
       "    </tr>\n",
       "    <tr>\n",
       "      <th>min</th>\n",
       "      <td>1.100000</td>\n",
       "      <td>17.000000</td>\n",
       "    </tr>\n",
       "    <tr>\n",
       "      <th>25%</th>\n",
       "      <td>2.700000</td>\n",
       "      <td>30.000000</td>\n",
       "    </tr>\n",
       "    <tr>\n",
       "      <th>50%</th>\n",
       "      <td>4.800000</td>\n",
       "      <td>47.000000</td>\n",
       "    </tr>\n",
       "    <tr>\n",
       "      <th>75%</th>\n",
       "      <td>7.400000</td>\n",
       "      <td>75.000000</td>\n",
       "    </tr>\n",
       "    <tr>\n",
       "      <th>max</th>\n",
       "      <td>9.200000</td>\n",
       "      <td>95.000000</td>\n",
       "    </tr>\n",
       "  </tbody>\n",
       "</table>\n",
       "</div>"
      ],
      "text/plain": [
       "          Hours    Scores\n",
       "count 25.000000 25.000000\n",
       "mean   5.012000 51.480000\n",
       "std    2.525094 25.286887\n",
       "min    1.100000 17.000000\n",
       "25%    2.700000 30.000000\n",
       "50%    4.800000 47.000000\n",
       "75%    7.400000 75.000000\n",
       "max    9.200000 95.000000"
      ]
     },
     "execution_count": 140,
     "metadata": {},
     "output_type": "execute_result"
    }
   ],
   "source": [
    "# descriptive statistics\n",
    "df.describe()"
   ]
  },
  {
   "cell_type": "markdown",
   "id": "1b4c0c76",
   "metadata": {},
   "source": [
    "**Interpretation:**\n",
    "\n",
    "* If a student **approximately studies 1 hour/day** he is able to score atleast  **17%**.\n",
    "* If a student **approximately studies 5 hour/day** he is able to score avaeragly around **51%**.\n",
    "* If a student **approximately studies 9 hour/day** he is able to score with a maximum score of **95%**."
   ]
  },
  {
   "cell_type": "markdown",
   "id": "656530c2",
   "metadata": {},
   "source": [
    "### Missing Value Treatment"
   ]
  },
  {
   "cell_type": "code",
   "execution_count": 141,
   "id": "b81bebec",
   "metadata": {},
   "outputs": [
    {
     "name": "stdout",
     "output_type": "stream",
     "text": [
      "<class 'pandas.core.frame.DataFrame'>\n",
      "RangeIndex: 25 entries, 0 to 24\n",
      "Data columns (total 2 columns):\n",
      " #   Column  Non-Null Count  Dtype  \n",
      "---  ------  --------------  -----  \n",
      " 0   Hours   25 non-null     float64\n",
      " 1   Scores  25 non-null     int64  \n",
      "dtypes: float64(1), int64(1)\n",
      "memory usage: 528.0 bytes\n"
     ]
    }
   ],
   "source": [
    "df.info()"
   ]
  },
  {
   "cell_type": "code",
   "execution_count": 142,
   "id": "cb3bf592",
   "metadata": {},
   "outputs": [
    {
     "data": {
      "text/plain": [
       "Hours     0\n",
       "Scores    0\n",
       "dtype: int64"
      ]
     },
     "execution_count": 142,
     "metadata": {},
     "output_type": "execute_result"
    }
   ],
   "source": [
    "df.isnull().sum()"
   ]
  },
  {
   "cell_type": "markdown",
   "id": "484bf492",
   "metadata": {},
   "source": [
    "**Interpretation:**\n",
    "\n",
    "* We can infer that there are no null column.\n",
    "* There is no missing values in our dataset."
   ]
  },
  {
   "cell_type": "markdown",
   "id": "26bc5004",
   "metadata": {},
   "source": [
    "## Checking for Outliers"
   ]
  },
  {
   "cell_type": "code",
   "execution_count": 143,
   "id": "c9f58339",
   "metadata": {},
   "outputs": [
    {
     "data": {
      "image/png": "[encoded data removed]",
      "text/plain": [
       "<Figure size 576x576 with 1 Axes>"
      ]
     },
     "metadata": {
      "needs_background": "light"
     },
     "output_type": "display_data"
    }
   ],
   "source": [
    "plt.rcParams['figure.figsize']=(8,8)\n",
    "\n",
    "sns.boxplot(data=df)\n",
    "\n",
    "plt.show()"
   ]
  },
  {
   "cell_type": "markdown",
   "id": "ee954740",
   "metadata": {},
   "source": [
    "**There is no outliers or extreme observations present in the dataset**"
   ]
  },
  {
   "cell_type": "markdown",
   "id": "90d1da20",
   "metadata": {},
   "source": [
    "## Checking for Correlation"
   ]
  },
  {
   "cell_type": "code",
   "execution_count": 144,
   "id": "9cf1a787",
   "metadata": {},
   "outputs": [
    {
     "data": {
      "image/png": "[encoded data removed]",
      "text/plain": [
       "<Figure size 360x360 with 6 Axes>"
      ]
     },
     "metadata": {
      "needs_background": "light"
     },
     "output_type": "display_data"
    }
   ],
   "source": [
    "sns.pairplot(df);"
   ]
  },
  {
   "cell_type": "code",
   "execution_count": 145,
   "id": "11a05319",
   "metadata": {},
   "outputs": [
    {
     "data": {
      "text/html": [
       "<div>\n",
       "<style scoped>\n",
       "    .dataframe tbody tr th:only-of-type {\n",
       "        vertical-align: middle;\n",
       "    }\n",
       "\n",
       "    .dataframe tbody tr th {\n",
       "        vertical-align: top;\n",
       "    }\n",
       "\n",
       "    .dataframe thead th {\n",
       "        text-align: right;\n",
       "    }\n",
       "</style>\n",
       "<table border=\"1\" class=\"dataframe\">\n",
       "  <thead>\n",
       "    <tr style=\"text-align: right;\">\n",
       "      <th></th>\n",
       "      <th>Hours</th>\n",
       "      <th>Scores</th>\n",
       "    </tr>\n",
       "  </thead>\n",
       "  <tbody>\n",
       "    <tr>\n",
       "      <th>Hours</th>\n",
       "      <td>1.000000</td>\n",
       "      <td>0.976191</td>\n",
       "    </tr>\n",
       "    <tr>\n",
       "      <th>Scores</th>\n",
       "      <td>0.976191</td>\n",
       "      <td>1.000000</td>\n",
       "    </tr>\n",
       "  </tbody>\n",
       "</table>\n",
       "</div>"
      ],
      "text/plain": [
       "          Hours   Scores\n",
       "Hours  1.000000 0.976191\n",
       "Scores 0.976191 1.000000"
      ]
     },
     "execution_count": 145,
     "metadata": {},
     "output_type": "execute_result"
    }
   ],
   "source": [
    "df.corr()"
   ]
  },
  {
   "cell_type": "code",
   "execution_count": 146,
   "id": "7b67c862",
   "metadata": {},
   "outputs": [
    {
     "data": {
      "image/png": "[encoded data removed]",
      "text/plain": [
       "<Figure size 432x288 with 2 Axes>"
      ]
     },
     "metadata": {
      "needs_background": "light"
     },
     "output_type": "display_data"
    }
   ],
   "source": [
    "plt.figure(figsize=(6,4))\n",
    "sns.heatmap(df.corr(), annot = True,annot_kws={\"size\": 15})\n",
    "plt.title('Correlation plot')\n",
    "plt.show()"
   ]
  },
  {
   "cell_type": "markdown",
   "id": "bc4338fb",
   "metadata": {},
   "source": [
    "**We can infer that there is high positive correlation between these two variables**\n"
   ]
  },
  {
   "cell_type": "markdown",
   "id": "316ec069",
   "metadata": {},
   "source": [
    "### Distribution Plots"
   ]
  },
  {
   "cell_type": "code",
   "execution_count": 147,
   "id": "eaef5d4d",
   "metadata": {},
   "outputs": [
    {
     "data": {
      "image/png": "[encoded data removed]",
      "text/plain": [
       "<Figure size 1080x432 with 2 Axes>"
      ]
     },
     "metadata": {
      "needs_background": "light"
     },
     "output_type": "display_data"
    }
   ],
   "source": [
    "fig,ax = plt.subplots(1,2,figsize=(15,6))\n",
    "\n",
    "for var,ax in zip(df.columns,ax.flatten()):\n",
    "    z = sns.distplot(df[var],ax=ax)\n",
    "    z.set_xlabel(var,fontsize=20)\n",
    "        "
   ]
  },
  {
   "cell_type": "markdown",
   "id": "48e251c5",
   "metadata": {},
   "source": [
    "**We can infer that those variables follows near normal distribution**"
   ]
  },
  {
   "cell_type": "markdown",
   "id": "9933587b",
   "metadata": {},
   "source": [
    "### Train Test Split"
   ]
  },
  {
   "cell_type": "code",
   "execution_count": 159,
   "id": "2c59fb09",
   "metadata": {
    "scrolled": true
   },
   "outputs": [
    {
     "name": "stdout",
     "output_type": "stream",
     "text": [
      "X_train shape: (17, 1)\n",
      "X_test shape: (8, 1)\n",
      "y_train shape: (17,)\n",
      "y_test shape: (8,)\n"
     ]
    }
   ],
   "source": [
    "X = df.iloc[:,:1]\n",
    "y = df['Scores']\n",
    "\n",
    "X_train, X_test, y_train, y_test = train_test_split(X, y,test_size=0.3,random_state=42)\n",
    "\n",
    "print(\"X_train shape:\",X_train.shape)\n",
    "print(\"X_test shape:\",X_test.shape)\n",
    "print(\"y_train shape:\",y_train.shape)\n",
    "print(\"y_test shape:\",y_test.shape)"
   ]
  },
  {
   "cell_type": "code",
   "execution_count": 161,
   "id": "226254b9",
   "metadata": {
    "scrolled": true
   },
   "outputs": [
    {
     "data": {
      "text/plain": [
       "LinearRegression()"
      ]
     },
     "execution_count": 161,
     "metadata": {},
     "output_type": "execute_result"
    }
   ],
   "source": [
    "model = LinearRegression()\n",
    "model.fit(X_train,y_train)"
   ]
  },
  {
   "cell_type": "markdown",
   "id": "6c2c19d8",
   "metadata": {},
   "source": [
    "## Model Parameters"
   ]
  },
  {
   "cell_type": "code",
   "execution_count": 162,
   "id": "d8e1b61f",
   "metadata": {
    "scrolled": true
   },
   "outputs": [
    {
     "name": "stdout",
     "output_type": "stream",
     "text": [
      "Intercept: 2.794196676599803\n",
      "Beta coefficient: [9.71054094]\n"
     ]
    }
   ],
   "source": [
    "print('Intercept:',model.intercept_)\n",
    "print('Beta coefficient:', model.coef_)"
   ]
  },
  {
   "cell_type": "markdown",
   "id": "aa0f1bc1",
   "metadata": {},
   "source": [
    "## Plotting Regression Line"
   ]
  },
  {
   "cell_type": "code",
   "execution_count": 163,
   "id": "4689fe09",
   "metadata": {},
   "outputs": [
    {
     "data": {
      "image/png": "[encoded data removed]",
      "text/plain": [
       "<Figure size 576x360 with 1 Axes>"
      ]
     },
     "metadata": {
      "needs_background": "light"
     },
     "output_type": "display_data"
    }
   ],
   "source": [
    "plt.figure(figsize=(8,5))\n",
    "plt.scatter(X,y)\n",
    "plt.xlabel(\"Hours\")\n",
    "plt.ylabel(\"Scores\")\n",
    "reg_line = model.coef_*X+model.intercept_\n",
    "plt.plot(X.Hours,reg_line.Hours,'r');"
   ]
  },
  {
   "cell_type": "markdown",
   "id": "eed2c515",
   "metadata": {},
   "source": [
    "### Train Prediction"
   ]
  },
  {
   "cell_type": "code",
   "execution_count": 164,
   "id": "56c1b4bc",
   "metadata": {},
   "outputs": [
    {
     "data": {
      "text/plain": [
       "array([39.69425223, 17.36000808, 33.86792767, 46.49163089, 89.21801101,\n",
       "       85.33379464, 36.78108995, 29.0126572 , 21.24422446, 49.40479317,\n",
       "       62.02849639, 78.53641598, 56.20217183, 77.56536189, 13.47579171,\n",
       "       74.65219961, 92.13117329])"
      ]
     },
     "execution_count": 164,
     "metadata": {},
     "output_type": "execute_result"
    }
   ],
   "source": [
    "y_train_pred = model.predict(X_train)\n",
    "y_train_pred"
   ]
  },
  {
   "cell_type": "code",
   "execution_count": 165,
   "id": "2ffd7d36",
   "metadata": {},
   "outputs": [
    {
     "name": "stdout",
     "output_type": "stream",
     "text": [
      "R-Square Value: 0.954\n"
     ]
    }
   ],
   "source": [
    "print(\"R-Square Value:\" ,round(metrics.r2_score(y_train, y_train_pred),3))"
   ]
  },
  {
   "cell_type": "markdown",
   "id": "3f35a935",
   "metadata": {},
   "source": [
    "**From the R-sqaure value we can infer that 95% variation of the model can be explained by Hours variable**"
   ]
  },
  {
   "cell_type": "markdown",
   "id": "f7b5430f",
   "metadata": {},
   "source": [
    "### Comparing predicted and actual values of Train data"
   ]
  },
  {
   "cell_type": "code",
   "execution_count": 166,
   "id": "5ca9d436",
   "metadata": {},
   "outputs": [
    {
     "data": {
      "text/html": [
       "<div>\n",
       "<style scoped>\n",
       "    .dataframe tbody tr th:only-of-type {\n",
       "        vertical-align: middle;\n",
       "    }\n",
       "\n",
       "    .dataframe tbody tr th {\n",
       "        vertical-align: top;\n",
       "    }\n",
       "\n",
       "    .dataframe thead th {\n",
       "        text-align: right;\n",
       "    }\n",
       "</style>\n",
       "<table border=\"1\" class=\"dataframe\">\n",
       "  <thead>\n",
       "    <tr style=\"text-align: right;\">\n",
       "      <th></th>\n",
       "      <th>Predicted</th>\n",
       "      <th>Actual</th>\n",
       "      <th>Error</th>\n",
       "    </tr>\n",
       "  </thead>\n",
       "  <tbody>\n",
       "    <tr>\n",
       "      <th>0</th>\n",
       "      <td>39.694252</td>\n",
       "      <td>35</td>\n",
       "      <td>4.694252</td>\n",
       "    </tr>\n",
       "    <tr>\n",
       "      <th>1</th>\n",
       "      <td>17.360008</td>\n",
       "      <td>20</td>\n",
       "      <td>-2.639992</td>\n",
       "    </tr>\n",
       "    <tr>\n",
       "      <th>2</th>\n",
       "      <td>33.867928</td>\n",
       "      <td>27</td>\n",
       "      <td>6.867928</td>\n",
       "    </tr>\n",
       "    <tr>\n",
       "      <th>3</th>\n",
       "      <td>46.491631</td>\n",
       "      <td>41</td>\n",
       "      <td>5.491631</td>\n",
       "    </tr>\n",
       "    <tr>\n",
       "      <th>4</th>\n",
       "      <td>89.218011</td>\n",
       "      <td>95</td>\n",
       "      <td>-5.781989</td>\n",
       "    </tr>\n",
       "    <tr>\n",
       "      <th>5</th>\n",
       "      <td>85.333795</td>\n",
       "      <td>75</td>\n",
       "      <td>10.333795</td>\n",
       "    </tr>\n",
       "    <tr>\n",
       "      <th>6</th>\n",
       "      <td>36.781090</td>\n",
       "      <td>30</td>\n",
       "      <td>6.781090</td>\n",
       "    </tr>\n",
       "    <tr>\n",
       "      <th>7</th>\n",
       "      <td>29.012657</td>\n",
       "      <td>30</td>\n",
       "      <td>-0.987343</td>\n",
       "    </tr>\n",
       "    <tr>\n",
       "      <th>8</th>\n",
       "      <td>21.244224</td>\n",
       "      <td>24</td>\n",
       "      <td>-2.755776</td>\n",
       "    </tr>\n",
       "    <tr>\n",
       "      <th>9</th>\n",
       "      <td>49.404793</td>\n",
       "      <td>54</td>\n",
       "      <td>-4.595207</td>\n",
       "    </tr>\n",
       "    <tr>\n",
       "      <th>10</th>\n",
       "      <td>62.028496</td>\n",
       "      <td>67</td>\n",
       "      <td>-4.971504</td>\n",
       "    </tr>\n",
       "    <tr>\n",
       "      <th>11</th>\n",
       "      <td>78.536416</td>\n",
       "      <td>86</td>\n",
       "      <td>-7.463584</td>\n",
       "    </tr>\n",
       "    <tr>\n",
       "      <th>12</th>\n",
       "      <td>56.202172</td>\n",
       "      <td>60</td>\n",
       "      <td>-3.797828</td>\n",
       "    </tr>\n",
       "    <tr>\n",
       "      <th>13</th>\n",
       "      <td>77.565362</td>\n",
       "      <td>85</td>\n",
       "      <td>-7.434638</td>\n",
       "    </tr>\n",
       "    <tr>\n",
       "      <th>14</th>\n",
       "      <td>13.475792</td>\n",
       "      <td>17</td>\n",
       "      <td>-3.524208</td>\n",
       "    </tr>\n",
       "    <tr>\n",
       "      <th>15</th>\n",
       "      <td>74.652200</td>\n",
       "      <td>69</td>\n",
       "      <td>5.652200</td>\n",
       "    </tr>\n",
       "    <tr>\n",
       "      <th>16</th>\n",
       "      <td>92.131173</td>\n",
       "      <td>88</td>\n",
       "      <td>4.131173</td>\n",
       "    </tr>\n",
       "  </tbody>\n",
       "</table>\n",
       "</div>"
      ],
      "text/plain": [
       "    Predicted  Actual     Error\n",
       "0   39.694252      35  4.694252\n",
       "1   17.360008      20 -2.639992\n",
       "2   33.867928      27  6.867928\n",
       "3   46.491631      41  5.491631\n",
       "4   89.218011      95 -5.781989\n",
       "5   85.333795      75 10.333795\n",
       "6   36.781090      30  6.781090\n",
       "7   29.012657      30 -0.987343\n",
       "8   21.244224      24 -2.755776\n",
       "9   49.404793      54 -4.595207\n",
       "10  62.028496      67 -4.971504\n",
       "11  78.536416      86 -7.463584\n",
       "12  56.202172      60 -3.797828\n",
       "13  77.565362      85 -7.434638\n",
       "14  13.475792      17 -3.524208\n",
       "15  74.652200      69  5.652200\n",
       "16  92.131173      88  4.131173"
      ]
     },
     "execution_count": 166,
     "metadata": {},
     "output_type": "execute_result"
    }
   ],
   "source": [
    "pd.DataFrame({'Predicted' : y_train_pred,'Actual' : y_train,'Error': y_train_pred - y_train}).reset_index(drop = True)"
   ]
  },
  {
   "cell_type": "markdown",
   "id": "f6dbd26d",
   "metadata": {},
   "source": [
    "### Test Prediction"
   ]
  },
  {
   "cell_type": "code",
   "execution_count": 167,
   "id": "272d2ccd",
   "metadata": {},
   "outputs": [
    {
     "data": {
      "text/plain": [
       "array([83.39168645, 27.07054902, 27.07054902, 69.79692914, 60.0863882 ,\n",
       "       29.0126572 , 34.83898177, 52.31795545])"
      ]
     },
     "execution_count": 167,
     "metadata": {},
     "output_type": "execute_result"
    }
   ],
   "source": [
    "y_test_pred = model.predict(X_test)\n",
    "y_test_pred"
   ]
  },
  {
   "cell_type": "code",
   "execution_count": 168,
   "id": "7c5ddfc0",
   "metadata": {},
   "outputs": [
    {
     "name": "stdout",
     "output_type": "stream",
     "text": [
      "R-Square Value: 0.949\n"
     ]
    }
   ],
   "source": [
    "print(\"R-Square Value:\" ,round(metrics.r2_score(y_test, y_test_pred),3))"
   ]
  },
  {
   "cell_type": "markdown",
   "id": "d80ac6aa",
   "metadata": {},
   "source": [
    "### Comparing predicted and actual values of Test data"
   ]
  },
  {
   "cell_type": "code",
   "execution_count": 169,
   "id": "689a3d3d",
   "metadata": {},
   "outputs": [
    {
     "data": {
      "text/html": [
       "<div>\n",
       "<style scoped>\n",
       "    .dataframe tbody tr th:only-of-type {\n",
       "        vertical-align: middle;\n",
       "    }\n",
       "\n",
       "    .dataframe tbody tr th {\n",
       "        vertical-align: top;\n",
       "    }\n",
       "\n",
       "    .dataframe thead th {\n",
       "        text-align: right;\n",
       "    }\n",
       "</style>\n",
       "<table border=\"1\" class=\"dataframe\">\n",
       "  <thead>\n",
       "    <tr style=\"text-align: right;\">\n",
       "      <th></th>\n",
       "      <th>Predicted</th>\n",
       "      <th>Actual</th>\n",
       "      <th>Error</th>\n",
       "    </tr>\n",
       "  </thead>\n",
       "  <tbody>\n",
       "    <tr>\n",
       "      <th>0</th>\n",
       "      <td>83.391686</td>\n",
       "      <td>81</td>\n",
       "      <td>2.391686</td>\n",
       "    </tr>\n",
       "    <tr>\n",
       "      <th>1</th>\n",
       "      <td>27.070549</td>\n",
       "      <td>30</td>\n",
       "      <td>-2.929451</td>\n",
       "    </tr>\n",
       "    <tr>\n",
       "      <th>2</th>\n",
       "      <td>27.070549</td>\n",
       "      <td>21</td>\n",
       "      <td>6.070549</td>\n",
       "    </tr>\n",
       "    <tr>\n",
       "      <th>3</th>\n",
       "      <td>69.796929</td>\n",
       "      <td>76</td>\n",
       "      <td>-6.203071</td>\n",
       "    </tr>\n",
       "    <tr>\n",
       "      <th>4</th>\n",
       "      <td>60.086388</td>\n",
       "      <td>62</td>\n",
       "      <td>-1.913612</td>\n",
       "    </tr>\n",
       "    <tr>\n",
       "      <th>5</th>\n",
       "      <td>29.012657</td>\n",
       "      <td>25</td>\n",
       "      <td>4.012657</td>\n",
       "    </tr>\n",
       "    <tr>\n",
       "      <th>6</th>\n",
       "      <td>34.838982</td>\n",
       "      <td>42</td>\n",
       "      <td>-7.161018</td>\n",
       "    </tr>\n",
       "    <tr>\n",
       "      <th>7</th>\n",
       "      <td>52.317955</td>\n",
       "      <td>47</td>\n",
       "      <td>5.317955</td>\n",
       "    </tr>\n",
       "  </tbody>\n",
       "</table>\n",
       "</div>"
      ],
      "text/plain": [
       "   Predicted  Actual     Error\n",
       "0  83.391686      81  2.391686\n",
       "1  27.070549      30 -2.929451\n",
       "2  27.070549      21  6.070549\n",
       "3  69.796929      76 -6.203071\n",
       "4  60.086388      62 -1.913612\n",
       "5  29.012657      25  4.012657\n",
       "6  34.838982      42 -7.161018\n",
       "7  52.317955      47  5.317955"
      ]
     },
     "execution_count": 169,
     "metadata": {},
     "output_type": "execute_result"
    }
   ],
   "source": [
    "pd.DataFrame({'Predicted' : y_test_pred,'Actual' : y_test,'Error': y_test_pred - y_test}).reset_index(drop = True)"
   ]
  },
  {
   "cell_type": "markdown",
   "id": "74fbb9f2",
   "metadata": {},
   "source": [
    "## Model Evaluation"
   ]
  },
  {
   "cell_type": "code",
   "execution_count": 170,
   "id": "665d3295",
   "metadata": {},
   "outputs": [],
   "source": [
    "def mape(actual, predicted):\n",
    "    return (np.mean(np.abs((actual - predicted) / actual)) * 100)"
   ]
  },
  {
   "cell_type": "code",
   "execution_count": 171,
   "id": "0de76e9f",
   "metadata": {},
   "outputs": [
    {
     "data": {
      "text/html": [
       "<div>\n",
       "<style scoped>\n",
       "    .dataframe tbody tr th:only-of-type {\n",
       "        vertical-align: middle;\n",
       "    }\n",
       "\n",
       "    .dataframe tbody tr th {\n",
       "        vertical-align: top;\n",
       "    }\n",
       "\n",
       "    .dataframe thead th {\n",
       "        text-align: right;\n",
       "    }\n",
       "</style>\n",
       "<table border=\"1\" class=\"dataframe\">\n",
       "  <thead>\n",
       "    <tr style=\"text-align: right;\">\n",
       "      <th></th>\n",
       "      <th>Name</th>\n",
       "      <th>R-squared</th>\n",
       "      <th>MSE</th>\n",
       "      <th>RMSE</th>\n",
       "      <th>MAE</th>\n",
       "      <th>MAPE</th>\n",
       "    </tr>\n",
       "  </thead>\n",
       "  <tbody>\n",
       "    <tr>\n",
       "      <th>0</th>\n",
       "      <td>Train Predictions</td>\n",
       "      <td>0.954000</td>\n",
       "      <td>31.398000</td>\n",
       "      <td>5.603000</td>\n",
       "      <td>5.171000</td>\n",
       "      <td>11.529000</td>\n",
       "    </tr>\n",
       "    <tr>\n",
       "      <th>1</th>\n",
       "      <td>Test Predictions</td>\n",
       "      <td>0.949000</td>\n",
       "      <td>23.619000</td>\n",
       "      <td>4.860000</td>\n",
       "      <td>4.500000</td>\n",
       "      <td>12.161000</td>\n",
       "    </tr>\n",
       "  </tbody>\n",
       "</table>\n",
       "</div>"
      ],
      "text/plain": [
       "                Name  R-squared       MSE     RMSE      MAE      MAPE\n",
       "0  Train Predictions   0.954000 31.398000 5.603000 5.171000 11.529000\n",
       "1   Test Predictions   0.949000 23.619000 4.860000 4.500000 12.161000"
      ]
     },
     "execution_count": 171,
     "metadata": {},
     "output_type": "execute_result"
    }
   ],
   "source": [
    "# Creating Result table to compare train-test predictions\n",
    "\n",
    "cols = ['Name', 'R-squared','MSE', 'RMSE', 'MAE', 'MAPE']\n",
    "score_card = pd.DataFrame(columns = cols)\n",
    "\n",
    "# finding performance metrics for train data\n",
    "train_metrics = pd.Series({'Name': \"Train Predictions\",\n",
    "                     'R-squared': round(metrics.r2_score(y_train, y_train_pred),3) ,\n",
    "                     'MSE': round(metrics.mean_squared_error(y_train, y_train_pred),3),\n",
    "                     'RMSE':round(np.sqrt(metrics.mean_squared_error(y_train, y_train_pred)),3),\n",
    "                     'MAE': round(metrics.mean_absolute_error(y_train, y_train_pred),3),\n",
    "                     'MAPE':round(mape(y_train, y_train_pred),3)})\n",
    "\n",
    "# finding performance metrics for test data\n",
    "test_metrics = pd.Series({'Name': \"Test Predictions\",\n",
    "                     'R-squared': round(metrics.r2_score(y_test, y_test_pred),3) ,\n",
    "                     'MSE': round(metrics.mean_squared_error(y_test, y_test_pred),3),\n",
    "                     'RMSE':round(np.sqrt(metrics.mean_squared_error(y_test, y_test_pred)),3),\n",
    "                     'MAE': round(metrics.mean_absolute_error(y_test, y_test_pred),3),\n",
    "                     'MAPE':round(mape(y_test, y_test_pred),3)})\n",
    "\n",
    "score_card = score_card.append([train_metrics,test_metrics], ignore_index = True)\n",
    "\n",
    "score_card"
   ]
  },
  {
   "cell_type": "markdown",
   "id": "b6425210",
   "metadata": {},
   "source": [
    "### Final Interpretation:"
   ]
  },
  {
   "cell_type": "markdown",
   "id": "cdc46bef",
   "metadata": {},
   "source": [
    "* The R-Squared value for the  model is 95% on both train and test indicates that 95% of the variation in target variable can be explained by this model.\n",
    "* Model Accuracy is 95%\n",
    "* There is a strong positive correlation between Hours and Scores.\n",
    "* RMSE of both train & test is less indicates model performance is good."
   ]
  },
  {
   "cell_type": "markdown",
   "id": "a80c5715",
   "metadata": {},
   "source": []
  }
 ],
 "metadata": {
  "kernelspec": {
   "display_name": "Python 3",
   "language": "python",
   "name": "python3"
  },
  "language_info": {
   "codemirror_mode": {
    "name": "ipython",
    "version": 3
   },
   "file_extension": ".py",
   "mimetype": "text/x-python",
   "name": "python",
   "nbconvert_exporter": "python",
   "pygments_lexer": "ipython3",
   "version": "3.8.8"
  }
 },
 "nbformat": 4,
 "nbformat_minor": 5
}
